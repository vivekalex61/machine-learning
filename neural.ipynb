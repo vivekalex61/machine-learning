{
  "nbformat": 4,
  "nbformat_minor": 0,
  "metadata": {
    "colab": {
      "name": "neural.ipynb",
      "provenance": [],
      "authorship_tag": "ABX9TyNpACxVyMSvRhVD8yVfRsFk",
      "include_colab_link": true
    },
    "kernelspec": {
      "name": "python3",
      "display_name": "Python 3"
    }
  },
  "cells": [
    {
      "cell_type": "markdown",
      "metadata": {
        "id": "view-in-github",
        "colab_type": "text"
      },
      "source": [
        "<a href=\"https://colab.research.google.com/github/vivekalex61/machine-learning/blob/master/neural.ipynb\" target=\"_parent\"><img src=\"https://colab.research.google.com/assets/colab-badge.svg\" alt=\"Open In Colab\"/></a>"
      ]
    },
    {
      "cell_type": "code",
      "metadata": {
        "id": "0KYN1TtipB5z",
        "colab_type": "code",
        "colab": {}
      },
      "source": [
        "import numpy as np"
      ],
      "execution_count": null,
      "outputs": []
    },
    {
      "cell_type": "code",
      "metadata": {
        "id": "g07y-a16pQGJ",
        "colab_type": "code",
        "colab": {}
      },
      "source": [
        "X=np.array([[0,0],[1,0],[1,1],[0,1]])\n",
        "y=np.array([[0,1,1,1]])\n",
        "y=y.reshape(4,1)"
      ],
      "execution_count": null,
      "outputs": []
    },
    {
      "cell_type": "code",
      "metadata": {
        "id": "QYVsHWmfqSAf",
        "colab_type": "code",
        "colab": {
          "base_uri": "https://localhost:8080/",
          "height": 34
        },
        "outputId": "d28d774a-57ee-4633-8a71-5747a1af7b3e"
      },
      "source": [
        ""
      ],
      "execution_count": null,
      "outputs": [
        {
          "output_type": "execute_result",
          "data": {
            "text/plain": [
              "(4, 2)"
            ]
          },
          "metadata": {
            "tags": []
          },
          "execution_count": 140
        }
      ]
    },
    {
      "cell_type": "code",
      "metadata": {
        "id": "XWonKjW0sLiL",
        "colab_type": "code",
        "colab": {}
      },
      "source": [
        "def sigmoid(x):\n",
        "  return 1/(1+np.exp(-x))\n",
        "\n",
        "def sg_derv(x):\n",
        "  return sigmoid(x)*(1-sigmoid(x))\n"
      ],
      "execution_count": null,
      "outputs": []
    },
    {
      "cell_type": "code",
      "metadata": {
        "id": "q5YC4iUNs-Cz",
        "colab_type": "code",
        "colab": {}
      },
      "source": [
        "weights=np.array([[.2],[.3]])\n",
        "bias=.3\n",
        "lr=.05\n",
        "for i in range(15000):\n",
        "  inputs=X\n",
        "  z=np.dot(inputs,weights)+bias\n",
        "  sig_z=sigmoid(z)\n",
        "  error=sig_z-y\n",
        "  \n",
        "  de_do=error\n",
        "  do_dz=sigmoid_der(sig_z)\n",
        "  de_dz=de_do*do_dz\n",
        "  \n",
        "  inputs=X.T\n",
        "  final_der=np.dot(inputs,de_dz)\n",
        "  \n",
        "  weights=weights-lr*final_der\n",
        "  for i in de_dz:\n",
        "    bias=bias-lr*i\n",
        "  "
      ],
      "execution_count": null,
      "outputs": []
    },
    {
      "cell_type": "code",
      "metadata": {
        "id": "rD8BVIdc_3Z8",
        "colab_type": "code",
        "colab": {
          "base_uri": "https://localhost:8080/",
          "height": 69
        },
        "outputId": "859ef816-7cfc-41b9-ab2f-e077f65d52f2"
      },
      "source": [
        "print(weights)\n",
        "print(bias)\n"
      ],
      "execution_count": null,
      "outputs": [
        {
          "output_type": "stream",
          "text": [
            "[[7.84285416]\n",
            " [7.84299515]]\n",
            "[-3.57196249]\n"
          ],
          "name": "stdout"
        }
      ]
    },
    {
      "cell_type": "code",
      "metadata": {
        "id": "BK8b19WIFcEt",
        "colab_type": "code",
        "colab": {
          "base_uri": "https://localhost:8080/",
          "height": 34
        },
        "outputId": "4bd50dcf-0f40-405e-abb8-56315bf04946"
      },
      "source": [
        "#predicting the input 1,1\n",
        "p=np.array([1,1])\n",
        "s=(np.dot(p,weights) )+ bias\n",
        "sigmoid(s)\n"
      ],
      "execution_count": null,
      "outputs": [
        {
          "output_type": "execute_result",
          "data": {
            "text/plain": [
              "array([0.99998109])"
            ]
          },
          "metadata": {
            "tags": []
          },
          "execution_count": 173
        }
      ]
    },
    {
      "cell_type": "code",
      "metadata": {
        "id": "JCmwf5yGRqF3",
        "colab_type": "code",
        "colab": {}
      },
      "source": [
        ""
      ],
      "execution_count": null,
      "outputs": []
    },
    {
      "cell_type": "code",
      "metadata": {
        "id": "boQJt__HSO3f",
        "colab_type": "code",
        "colab": {
          "base_uri": "https://localhost:8080/",
          "height": 52
        },
        "outputId": "c41aa0eb-dcd2-48eb-a888-aa804bcc6e15"
      },
      "source": [
        ""
      ],
      "execution_count": null,
      "outputs": [
        {
          "output_type": "stream",
          "text": [
            "[[7.00922425]\n",
            " [7.00953281]]\n"
          ],
          "name": "stdout"
        }
      ]
    }
  ]
}